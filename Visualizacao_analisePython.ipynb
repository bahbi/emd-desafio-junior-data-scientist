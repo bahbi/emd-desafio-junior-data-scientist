{
  "nbformat": 4,
  "nbformat_minor": 0,
  "metadata": {
    "colab": {
      "provenance": [],
      "authorship_tag": "ABX9TyOrYrCw/ib9FuOyPz7qiHvW",
      "include_colab_link": true
    },
    "kernelspec": {
      "name": "python3",
      "display_name": "Python 3"
    },
    "language_info": {
      "name": "python"
    }
  },
  "cells": [
    {
      "cell_type": "markdown",
      "metadata": {
        "id": "view-in-github",
        "colab_type": "text"
      },
      "source": [
        "<a href=\"https://colab.research.google.com/github/bahbi/emd-desafio-junior-data-scientist/blob/main/Visualizacao_analisePython.ipynb\" target=\"_parent\"><img src=\"https://colab.research.google.com/assets/colab-badge.svg\" alt=\"Open In Colab\"/></a>"
      ]
    },
    {
      "cell_type": "code",
      "source": [
        "pip install pywaffle"
      ],
      "metadata": {
        "id": "02U2YlybTIJ7"
      },
      "execution_count": null,
      "outputs": []
    },
    {
      "cell_type": "code",
      "source": [
        "# @title Setup code\n",
        "!pip install -q streamlit\n",
        "!wget https://github.com/cloudflare/cloudflared/releases/latest/download/cloudflared-linux-amd64\n",
        "!chmod +x cloudflared-linux-amd64\n",
        "# import subprocess\n",
        "# subprocess.Popen([\"./cloudflared-linux-amd64\", \"tunnel\", \"--url\", \"http://localhost:8501\"])\n",
        "!nohup /content/cloudflared-linux-amd64 tunnel --url http://localhost:8501 &"
      ],
      "metadata": {
        "id": "ygD1sbP4_e-U"
      },
      "execution_count": null,
      "outputs": []
    },
    {
      "cell_type": "code",
      "source": [
        "!grep -o 'https://.*\\.trycloudflare.com' nohup.out | head -n 1 | xargs -I {} echo \"Your tunnel url {}\""
      ],
      "metadata": {
        "colab": {
          "base_uri": "https://localhost:8080/"
        },
        "id": "Gb8uJHPW_xLP",
        "outputId": "39ee3a0c-bb8a-4b51-8a23-9a2712e800aa"
      },
      "execution_count": null,
      "outputs": [
        {
          "output_type": "stream",
          "name": "stdout",
          "text": [
            "Your tunnel url https://priest-parallel-tough-sonic.trycloudflare.com\n"
          ]
        }
      ]
    },
    {
      "cell_type": "code",
      "source": [
        "!streamlit run /content/app.py &>/content/logs.txt &"
      ],
      "metadata": {
        "id": "VnAyXaU7_0dX"
      },
      "execution_count": null,
      "outputs": []
    },
    {
      "cell_type": "code",
      "source": [
        "#importante notificar que as vezes é necessário rodar mais de uma vez para funcionar\n",
        "#lembrar dos arquivos"
      ],
      "metadata": {
        "id": "NeurAitOyyMh"
      },
      "execution_count": null,
      "outputs": []
    },
    {
      "cell_type": "code",
      "source": [
        "\"\"\"%%writefile app.py\n",
        "import streamlit as st\n",
        "\n",
        "x = st.slider('Select a value')\n",
        "st.write(x, 'squared is', x * x)"
      ],
      "metadata": {
        "id": "B0Z5Q1Ux_2xR"
      },
      "execution_count": null,
      "outputs": []
    },
    {
      "cell_type": "code",
      "source": [
        "#esse é o oficial\n",
        "\n",
        "%%writefile app.py\n",
        "\n",
        "import streamlit as st\n",
        "import pandas as pd\n",
        "import plotly.express as px\n",
        "\n",
        "# Carregar os dados\n",
        "df1 = pd.read_csv('/content/chamados_parte1.csv', delimiter=',')\n",
        "df_bairros = pd.read_csv('/content/bairros_rj.csv', delimiter=',')\n",
        "\n",
        "# Selecionar os dados relevantes\n",
        "df1_selecionado = df1[['id_chamado', 'data_inicio', 'id_bairro', 'tipo',\n",
        "                       'subtipo', 'status', 'longitude', 'latitude', 'reclamacoes', 'geometry']]\n",
        "df_selecionado_bairros = df_bairros[['id_bairro', 'nome', 'subprefeitura']]\n",
        "df_uniao_chamados_bairros = pd.merge(df1_selecionado, df_selecionado_bairros, on='id_bairro', how='left')\n",
        "\n",
        "# Adicionar um menu lateral com opções para os títulos das seções\n",
        "option = st.sidebar.selectbox('Selecione uma opção:',\n",
        "                              ['Visualização chamados 1746 - em 01/04/2023',\n",
        "                               'Visualização chamados de PS geral - em 01/04/2023'\n",
        "                               ]) #'Visualização chamados relacionados ao período dos eventos - em 01/04/2023'\n",
        "\n",
        "if option == 'Visualização chamados 1746 - em 01/04/2023':\n",
        "    # Contar ocorrências por tipo\n",
        "    st.subheader('Visualização chamados 1746 - em 01/04/2023')\n",
        "\n",
        "\n",
        "    ocorrencias_por_tipo = df_uniao_chamados_bairros['tipo'].value_counts()\n",
        "    df_ocorrencias_por_tipo = pd.DataFrame({'tipo': ocorrencias_por_tipo.index, 'contagem': ocorrencias_por_tipo.values})\n",
        "\n",
        "    # Criar um gráfico de barras com o Plotly Express\n",
        "    fig_tipo = px.bar(df_ocorrencias_por_tipo.head(10), x='contagem', y='tipo', orientation='h',\n",
        "                      labels={'contagem': 'Quantidade', 'tipo': 'Tipo de Ocorrência'},\n",
        "                      title='Top 10 Tipos de Ocorrências')\n",
        "\n",
        "    # Personalizar as cores do gráfico\n",
        "    fig_tipo.update_traces(marker_color='rgb(253, 180, 98)')\n",
        "\n",
        "    # Exibir o gráfico com Streamlit\n",
        "    st.plotly_chart(fig_tipo)\n",
        "\n",
        "    # Contar ocorrências por status\n",
        "    ocorrencias_por_status = df_uniao_chamados_bairros['status'].value_counts()\n",
        "    df_ocorrencias_por_status = pd.DataFrame({'status': ocorrencias_por_status.index, 'contagem': ocorrencias_por_status.values})\n",
        "\n",
        "    # Criar um gráfico de barras com o Plotly Express\n",
        "    fig_status = px.bar(df_ocorrencias_por_status, x='contagem', y='status',\n",
        "                        labels={'contagem': 'Quantidade', 'status': 'Status da Ocorrência'},\n",
        "                        title='Ocorrências por Status')\n",
        "\n",
        "    # Personalizar as cores do gráfico\n",
        "    fig_status.update_traces(marker_color='rgb(253, 180, 98)')\n",
        "\n",
        "    # Exibir o gráfico com Streamlit\n",
        "    st.plotly_chart(fig_status)\n",
        "\n",
        "\n",
        "    #mapa -1\n",
        "\n",
        "    # Criar o gráfico de dispersão com Mapbox usando Plotly Express\n",
        "    fig_mapa1 = px.scatter_mapbox(df_uniao_chamados_bairros,\n",
        "                            lat='latitude',\n",
        "                            lon='longitude',\n",
        "                            color='tipo',\n",
        "                            hover_name='nome',\n",
        "                            zoom=10,\n",
        "                            mapbox_style=\"carto-positron\",\n",
        "                            center=dict(lat=-22.9068467, lon=-43.1728965),\n",
        "                            title='Pontos de Chamados por Bairro')\n",
        "\n",
        "    # Exibir o gráfico com Streamlit\n",
        "    st.plotly_chart(fig_mapa1)\n",
        "\n",
        "\n",
        "    # Contar ocorrências por subprefeitura e tipo\n",
        "    df_count = df_uniao_chamados_bairros.groupby(['subprefeitura', 'tipo']).size().reset_index(name='count')\n",
        "\n",
        "    # Criar o gráfico de barras empilhadas com Plotly Express\n",
        "    fig_subp_tipo = px.bar(df_count,\n",
        "                x='subprefeitura',\n",
        "                y='count',\n",
        "                color='tipo',\n",
        "                title='Tipos de Chamados por Subprefeitura',\n",
        "                labels={'count': 'Número de Chamados'},\n",
        "                barmode='stack')\n",
        "\n",
        "    # Exibir o gráfico com Streamlit\n",
        "    st.plotly_chart(fig_subp_tipo)\n",
        "\n",
        "\n",
        "    #-----------------------------------------------\n",
        "\n",
        "else:\n",
        "      #option == 'Visualização chamados de PS geral - em 01/04/2023'\n",
        "    # Mapa -1\n",
        "    # Adicionar título para a seção 2\n",
        "    st.subheader('Visualização chamados de PS geral  - em 01/04/2023 ')\n",
        "\n",
        "    df_filtrado1 = pd.read_csv('/content/chamados_parte2.csv', delimiter=',')\n",
        "\n",
        "    df2_selecionado = df_filtrado1[['id_chamado', 'data_inicio','id_bairro','categoria','tipo',\n",
        "                          'subtipo','status','longitude','latitude','reclamacoes','geometry']]\n",
        "\n",
        "    df3 = pd.read_csv('/content/hoteleira_ocupacao.csv', delimiter=',')\n",
        "\n",
        "    df_uniao_chamados_bairros_PS = pd.merge(df2_selecionado, df_selecionado_bairros, on='id_bairro', how='left')\n",
        "\n",
        "\n",
        "    # Contar ocorrências por latitude e longitude\n",
        "    df_count2 = df_uniao_chamados_bairros_PS.groupby(['latitude', 'longitude']).size().reset_index(name='count')\n",
        "\n",
        "    # Criar o gráfico de densidade com Mapbox usando Plotly Express\n",
        "    fig_heatmap = px.density_mapbox(df_count2,\n",
        "                                    lat='latitude',\n",
        "                                    lon='longitude',\n",
        "                                    z='count',\n",
        "                                    radius=10,\n",
        "                                    center=dict(lat=-22.9068467, lon=-43.1728965),\n",
        "                                    zoom=11,\n",
        "                                    mapbox_style=\"carto-positron\",\n",
        "                                    title='Mapa de Calor de Chamados por Bairro')\n",
        "\n",
        "    # Exibir o gráfico com Streamlit\n",
        "    st.plotly_chart(fig_heatmap)\n",
        "\n",
        "\n",
        "    # Contar ocorrências por status\n",
        "    ocorrencias_por_status1 = df_uniao_chamados_bairros_PS['status'].value_counts()\n",
        "    df_ocorrencias_por_status1 = pd.DataFrame({'status': ocorrencias_por_status1.index, 'contagem': ocorrencias_por_status1.values})\n",
        "\n",
        "    # Selecionar as top 9 ocorrências\n",
        "    barras_qtd = 9\n",
        "    df_top = df_ocorrencias_por_status1.head(barras_qtd)\n",
        "\n",
        "    # Criar o gráfico de barras com Plotly Express\n",
        "    fig = px.bar(df_top, x='contagem', y='status', orientation='h',\n",
        "                labels={'contagem': 'Quantidade', 'status': 'Status da Ocorrência'},\n",
        "                title='Top 9 Ocorrências por Status')\n",
        "\n",
        "    # Exibir o gráfico com Streamlit\n",
        "    st.plotly_chart(fig)\n",
        "\n",
        "\n",
        "    # Converter a coluna de data para o formato datetime\n",
        "    df_uniao_chamados_bairros_PS['data_inicio'] = pd.to_datetime(df_uniao_chamados_bairros_PS['data_inicio'])\n",
        "\n",
        "    # Agrupar o número de chamados por data\n",
        "    df_tendencia = df_uniao_chamados_bairros_PS.groupby(df_uniao_chamados_bairros_PS['data_inicio'].dt.date).size().reset_index(name='id_chamado')\n",
        "\n",
        "    # Criar o gráfico de linha com Plotly Express\n",
        "    fig = px.line(df_tendencia,\n",
        "                  x='data_inicio',\n",
        "                  y='id_chamado',\n",
        "                  title='Tendência de Chamados ao Longo do Tempo')\n",
        "\n",
        "    # Personalizar os rótulos dos eixos\n",
        "    fig.update_xaxes(title_text='Data')\n",
        "    fig.update_yaxes(title_text='Número de Chamados')\n",
        "\n",
        "    # Exibir o gráfico com Streamlit\n",
        "    st.plotly_chart(fig)\n",
        "\n",
        "    #-----------------------------------------------\n",
        "\n",
        "#else:\n",
        "    # Adicionar título para a seção 3\n",
        "    st.subheader('Visualização chamados relacionados ao período dos eventos - em 01/04/2023')\n",
        "\n",
        "    # Converter a coluna de data para o formato datetime\n",
        "    df_uniao_chamados_bairros_PS['data_inicio'] = pd.to_datetime(df_uniao_chamados_bairros_PS['data_inicio'])\n",
        "\n",
        "    # Restante do código para a terceira seção\n",
        "    # ...\n",
        "    df_chamados = pd.DataFrame(df_uniao_chamados_bairros_PS)\n",
        "    df_categorias = pd.DataFrame(df3)\n",
        "\n",
        "\n",
        "    df_chamados['data_inicio'] = pd.to_datetime(df_chamados['data_inicio'])\n",
        "    df_categorias['data_inicial'] = pd.to_datetime(df_categorias['data_inicial'])\n",
        "    df_categorias['data_final'] = pd.to_datetime(df_categorias['data_final'])\n",
        "\n",
        "\n",
        "    def verifica_correspondencia(data_inicio, data_inicial, data_final):\n",
        "        return (data_inicio >= data_inicial) & (data_inicio <= data_final)\n",
        "\n",
        "\n",
        "    chamados_correspondentes = []\n",
        "    for _, chamado in df_chamados.iterrows():\n",
        "        for _, categoria in df_categorias.iterrows():\n",
        "            if verifica_correspondencia(chamado['data_inicio'], categoria['data_inicial'], categoria['data_final']):\n",
        "                chamados_correspondentes.append((chamado['id_chamado'], categoria['evento'], chamado['data_inicio']))\n",
        "                break\n",
        "\n",
        "\n",
        "    df_correspondencias = pd.DataFrame(chamados_correspondentes, columns=['id_chamado', 'evento', 'data_inicio'])\n",
        "\n",
        "    # Calcular o número de aparições de cada evento\n",
        "    df_correspondencias['numero_aparicoes'] = df_correspondencias.groupby(['id_chamado', 'evento'])['data_inicio'].transform('count')\n",
        "\n",
        "    # Contar o número de aparições de cada evento\n",
        "    contagem_categorias = df_correspondencias['evento'].value_counts().reset_index()\n",
        "    contagem_categorias.columns = ['evento', 'numero_aparicoes']\n",
        "\n",
        "    # Criar o gráfico de pizza com Plotly Express\n",
        "    fig_ap_ev1 = px.pie(contagem_categorias, values='numero_aparicoes', names='evento',\n",
        "                title='Número de Aparições por Evento')\n",
        "\n",
        "    # Personalizar as cores do gráfico\n",
        "    fig_ap_ev1.update_traces(marker_colors=px.colors.qualitative.Pastel)\n",
        "\n",
        "    # Exibir o gráfico com Streamlit\n",
        "    st.plotly_chart(fig_ap_ev1)\n",
        "\n",
        "    df_final = pd.merge(df_correspondencias, df_uniao_chamados_bairros_PS, on='id_chamado', how='left')\n",
        "\n",
        "\n",
        "    # Agrupar os dados por evento e status e contar o número de ocorrências\n",
        "    df_count1 = df_final.groupby(['evento', 'status']).size().reset_index(name='count')\n",
        "\n",
        "    # Criar o gráfico de barras empilhadas com Plotly Express\n",
        "    fig_n = px.bar(df_count1,\n",
        "                x='evento',\n",
        "                y='count',\n",
        "                color='status',\n",
        "                title='Tipos de Chamados por Subprefeitura',\n",
        "                labels={'count': 'Número de Chamados'},\n",
        "                barmode='stack')\n",
        "\n",
        "    # Exibir o gráfico com Streamlit\n",
        "    st.plotly_chart(fig_n)\n",
        "\n",
        "    #import streamlit as st\n",
        "    #import plotly.express as px\n",
        "\n",
        "    # Criar o gráfico de dispersão com Mapbox usando Plotly Express\n",
        "    fig_m1 = px.scatter_mapbox(df_final,\n",
        "                            lat='latitude',\n",
        "                            lon='longitude',\n",
        "                            color='evento',\n",
        "                            hover_name='nome',\n",
        "                            zoom=10,\n",
        "                            mapbox_style=\"carto-positron\",\n",
        "                            center=dict(lat=-22.9068467, lon=-43.1728965),\n",
        "                            title='Pontos de Chamados por evento')\n",
        "\n",
        "    # Exibir o gráfico com Streamlit\n",
        "    st.plotly_chart(fig_m1)\n",
        "\n",
        "\n",
        "\n"
      ],
      "metadata": {
        "colab": {
          "base_uri": "https://localhost:8080/"
        },
        "id": "6nBSI4236Gfj",
        "outputId": "c52d848f-3f38-42e1-d4ff-bc4692c6c073"
      },
      "execution_count": null,
      "outputs": [
        {
          "output_type": "stream",
          "name": "stdout",
          "text": [
            "Overwriting app.py\n"
          ]
        }
      ]
    },
    {
      "cell_type": "code",
      "source": [],
      "metadata": {
        "id": "nd4liYXst0wo"
      },
      "execution_count": null,
      "outputs": []
    }
  ]
}